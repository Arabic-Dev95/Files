{
  "nbformat": 4,
  "nbformat_minor": 0,
  "metadata": {
    "colab": {
      "provenance": []
    },
    "kernelspec": {
      "name": "python3",
      "display_name": "Python 3"
    },
    "language_info": {
      "name": "python"
    }
  },
  "cells": [
    {
      "cell_type": "code",
      "execution_count": null,
      "metadata": {
        "id": "NVLrBUVlxX_M"
      },
      "outputs": [],
      "source": []
    },
    {
      "cell_type": "markdown",
      "metadata": {
        "id": "973d12cb"
      },
      "source": [
        "## Загрузка данных и первичный осмотр"
      ]
    },
    {
      "cell_type": "code",
      "execution_count": null,
      "metadata": {
        "id": "23005f25"
      },
      "outputs": [],
      "source": [
        "# загрузка файлов\n",
        "data = []\n",
        "for f in files:\n",
        "    with open(f\"C:/Users/User/OneDrive/Рабочий стол/Вар 2/Data/{f}\", 'r', encoding='utf-8') as fin:\n",
        "        text = json.load(fin)\n",
        "        data.append(text)"
      ]
    },
    {
      "cell_type": "code",
      "execution_count": null,
      "metadata": {
        "scrolled": true,
        "id": "70f96d17",
        "outputId": "3eb409d0-fa62-4632-aea7-43f674d29c88"
      },
      "outputs": [
        {
          "data": {
            "text/plain": [
              "{'id': 2947909,\n",
              " 'district_name': 'Приморский',\n",
              " 'watchers_count': 0,\n",
              " 'feed': [{'widget': 'public.status',\n",
              "   'key': 'changestatus_12267237',\n",
              "   'payload': {'id': 12267237,\n",
              "    'dt': '2020-11-13T01:30:54.728196',\n",
              "    'status_name': 'Завершено: Автоматически',\n",
              "    'status': 4},\n",
              "   'meta': {'title': 'Изменение статуса сообщения',\n",
              "    'bg_color': '#EEEEEE',\n",
              "    'icon': 'fa-thumbs-up fa-flip-horizontal',\n",
              "    'icon_bg_color': '#65C381'},\n",
              "   'content_type': 30},\n",
              "  {'widget': 'public.status',\n",
              "   'key': 'changestatus_12063847',\n",
              "   'payload': {'id': 12063847,\n",
              "    'dt': '2020-10-23T14:46:07.242630',\n",
              "    'status_name': 'Получен ответ',\n",
              "    'status': 4},\n",
              "   'meta': {'title': 'Изменение статуса сообщения',\n",
              "    'bg_color': '#EEEEEE',\n",
              "    'icon': 'fa-comments-o',\n",
              "    'icon_bg_color': '#AC89C7'},\n",
              "   'content_type': 30},\n",
              "  {'widget': 'public.answer',\n",
              "   'key': 'answer_7312125',\n",
              "   'payload': {'id': 7312125,\n",
              "    'dt': '2020-10-22T16:33:46.128707',\n",
              "    'status_name': 'Принят',\n",
              "    'body': 'Уважаемый пользователь!\\r\\n\\r\\nНастоящим сообщаем, что факты, указанные в Вашем обращении, не подтвердились.\\r\\nПри проверке сотрудниками администрации 22.10.2020 г. установлено, что в 1-м подъезде на 5 этаже у квартиры №19 отсутствуют посторонние провода, о чем имеются материалы фотофиксации.\\r\\n\\r\\nПриложение: материалы фотофиксации.',\n",
              "    'body_html': '<p>Уважаемый пользователь!</p><p>Настоящим сообщаем, что факты, указанные в Вашем обращении, не подтвердились.</p><p>При проверке сотрудниками администрации 22.10.2020 г. установлено, что в 1-м подъезде на 5 этаже у квартиры №19 отсутствуют посторонние провода, о чем имеются материалы фотофиксации.</p><p>Приложение: материалы фотофиксации.</p>',\n",
              "    'author_name': 'Администрация Приморского района',\n",
              "    'performer': None,\n",
              "    'response_performers': [],\n",
              "    'files': [],\n",
              "    'photos': [{'id': 16233283,\n",
              "      'url': '/storage/2/054a6c20-22d1-45b5-83dc-22be57880836.jpeg',\n",
              "      'original_name': 'C82DF7E6-C5E4-4166-AE80-B39C0D39B4DE.jpeg',\n",
              "      'thumbnail': '/media/cache/d8/ba/d8ba3258c07336b3802884b3bf430931.jpg',\n",
              "      'size': '524x699'},\n",
              "     {'id': 16233284,\n",
              "      'url': '/storage/2/ad94cff5-2d5d-4b6c-84db-b2b278ad1244.jpeg',\n",
              "      'original_name': 'CE7D40E1-8599-4E89-A915-C1A79EF1F7C2.jpeg',\n",
              "      'thumbnail': '/media/cache/ba/53/ba53c797a2bc48b895e102fd7d0797ed.jpg',\n",
              "      'size': '524x699'}],\n",
              "    'reject': None,\n",
              "    'interim_date': None},\n",
              "   'meta': {'title': 'Ответ',\n",
              "    'icon_text': 'ОО',\n",
              "    'icon_title': 'Окончательный ответ',\n",
              "    'bg_color': '#E8EAF6',\n",
              "    'border_color': '#5C6BC0',\n",
              "    'status_font_color': '#FFFFFF',\n",
              "    'status_bg_color': '#A5D6A7',\n",
              "    'icon_bg_color': '#5C6BC0'},\n",
              "   'content_type': 28},\n",
              "  {'widget': 'public.status',\n",
              "   'key': 'changestatus_12002463',\n",
              "   'payload': {'id': 12002463,\n",
              "    'dt': '2020-10-19T11:49:35.440997',\n",
              "    'status_name': 'Рассмотрение',\n",
              "    'status': 3},\n",
              "   'meta': {'title': 'Изменение статуса сообщения',\n",
              "    'bg_color': '#EEEEEE',\n",
              "    'icon': 'fa-clock-o',\n",
              "    'icon_bg_color': '#FCAA62'},\n",
              "   'content_type': 30},\n",
              "  {'widget': 'public.status',\n",
              "   'key': 'changestatus_11993733',\n",
              "   'payload': {'id': 11993733,\n",
              "    'dt': '2020-10-18T14:50:40.958225',\n",
              "    'status_name': 'Модерация',\n",
              "    'status': 1},\n",
              "   'meta': {'title': 'Изменение статуса сообщения',\n",
              "    'bg_color': '#EEEEEE',\n",
              "    'icon': 'fa-hand-paper-o',\n",
              "    'icon_bg_color': '#469ED3'},\n",
              "   'content_type': 30},\n",
              "  {'widget': 'public.petition',\n",
              "   'key': 'petition_3271081',\n",
              "   'payload': {'id': 3271081,\n",
              "    'dt': '2020-10-18T14:50:40.817676',\n",
              "    'status_name': 'Получен ответ',\n",
              "    'body': [{'text': '1й подъезд, 5 этаж. В коридоре над ', 'typeof': 1},\n",
              "     {'typeof': 2, 'text': 'XXXX'},\n",
              "     {'text': ' висит какой-то провод. Возможно, под напряжением.\\nПредседатель тсж \"Ленинградские Вечера\" отказывается принимать заявку на устранение более полугода.  ',\n",
              "      'typeof': 1},\n",
              "     {'typeof': 2,\n",
              "      'text': 'XXX XXXX XXXXXXXX XX XXXXXXXXXX XXXXXX XXXXXXXXX XXXX XXXXXXXX X XXX XXXXXXX XX XXXXXXX XXXXXX XXXXXX XXXXXXXXX XXXX XXXXXXXX X XXX XXXXXXX X XX XXXXXXXXXX XXXXXXXXXXXX X XXX XXXXXXXXX X X XXX XXXXXXX'}],\n",
              "    'photos': [{'url': '/storage/1/860ad076-079d-4592-92d8-a20e240db1d7.jpg',\n",
              "      'original_name': '1-5.jpg',\n",
              "      'id': 3723535,\n",
              "      'thumbnail': '/media/cache/d6/e1/d6e140765224d2af6234ad2ce6089ed5.jpg',\n",
              "      'original_url': '/storage/1/860ad076-079d-4592-92d8-a20e240db1d7.jpg',\n",
              "      'size': '524x699'},\n",
              "     {'url': '/storage/1/6b7831f8-e81c-493e-8a7d-ed135639aa6d.jpg',\n",
              "      'original_name': '1-5 (2).jpg',\n",
              "      'id': 3723536,\n",
              "      'thumbnail': '/media/cache/98/9a/989a1acf2b1d35d0efe74ef82f5bc407.jpg',\n",
              "      'original_url': '/storage/1/76dc3a53-89a8-4529-88b2-a909b47616bb.jpg',\n",
              "      'size': '524x699'}],\n",
              "    'files': [],\n",
              "    'author_name': 'Иванов А.',\n",
              "    'can_edit': False,\n",
              "    'is_author': False,\n",
              "    'is_created_by_conclusion': False},\n",
              "   'meta': {'title': 'Сообщение пользователя',\n",
              "    'bg_color': '#E1F5FE',\n",
              "    'border_color': '#4FC3F7',\n",
              "    'status_bg_color': '#FFFFFF',\n",
              "    'status_font_color': '#65C381',\n",
              "    'icon_title': 'Сообщение пользователя',\n",
              "    'icon_text': 'C1',\n",
              "    'icon_bg_color': '#4FC3F7'},\n",
              "   'content_type': 33}],\n",
              " 'permissions': [],\n",
              " 'messages': [],\n",
              " 'sidebar': {'id': 2947909,\n",
              "  'author_name': 'Иванов А.',\n",
              "  'author_url': '/accounts/101335/',\n",
              "  'latitude': '59.9943342',\n",
              "  'longitude': '30.1971070',\n",
              "  'full_address': 'г.Санкт-Петербург, Мебельная улица, дом 47, корпус 1, литера А',\n",
              "  'expected_answer_dt': None,\n",
              "  'responsible': {'label': 'Ответ подготовил',\n",
              "   'in_progress': False,\n",
              "   'data': {'executor': {'organization_name': 'Администрация Приморского района',\n",
              "     'person_position': 'Заместитель главы администрации',\n",
              "     'person_name': 'Гырла Артем Ульянович',\n",
              "     'person_phone': '576-82-14',\n",
              "     'person_email': 'zhilprim@tuprim.gov.spb.ru'}}},\n",
              "  'building': 140298,\n",
              "  'building_url': '/facilities/140298/summary/',\n",
              "  'nearest_building': None,\n",
              "  'municipality': {'name': 'муниципальный округ №65',\n",
              "   'short_name': 'муниципальный округ №65'},\n",
              "  'district': {'id': 34, 'name': 'Приморский'},\n",
              "  'private_info': None,\n",
              "  'responsible_history': []},\n",
              " 'reason': {'id': 189,\n",
              "  'name': 'Неудовлетворительное состояние парадной',\n",
              "  'category': {'id': 10,\n",
              "   'name': 'Содержание МКД',\n",
              "   'city_object': {'id': 1,\n",
              "    'name': 'Дом',\n",
              "    'icon': '/media/classifier/icons/objects-building.svg'}},\n",
              "  'comment': '<p>Если Вы обнаружили, что парадная находится в неудовлетворительном состоянии, сообщите об этом на Портал. Данная категория включает в себя сообщения о зданиях, в которых имеется или отсутствует государственная собственность, по вопросам технического обслуживания и косметического ремонта лестничной клетки. В соответствии с п. 3.2 Правил и норм технической эксплуатации жилищного фонда, утверждённых постановлением Госстроя РФ от 27.09.2003 № 170, содержание лестничных клеток может включать в себя: 1. техническое обслуживание (плановые, внеплановые осмотры, подготовка к сезонной эксплуатации, текущий ремонт конструктивных элементов и инженерных систем и домового оборудования); 2. капитальный ремонт в составе капитального или выборочного ремонта зданий; 3. мероприятия, обеспечивающие нормативно-влажностный режим на лестничных клетках; 4. обслуживание мусоропроводов; 5. обслуживание автоматических запирающихся устройств, входных дверей, самозакрывающихся устройств; 6. обслуживание лифтового оборудования; 7. обслуживание системы дистанционного управления; 8. организация дежурства в подъездах; 9. оборудование помещений для консьержек с установкой телефона.</p>'},\n",
              " 'can_view': True,\n",
              " 'is_authenticated': False,\n",
              " 'last_user_answer_dt': None,\n",
              " 'show_unpublished_message': False}"
            ]
          },
          "execution_count": 71,
          "metadata": {},
          "output_type": "execute_result"
        }
      ],
      "source": [
        "data[0]"
      ]
    },
    {
      "cell_type": "markdown",
      "metadata": {
        "id": "fbe7dc33"
      },
      "source": [
        "Нам необходимы следующие данные для дальнейшей работы:\n",
        "* Имя района\n",
        "* Имя автора жалобы\n",
        "* Текст жалобы\n",
        "* Категория жалобы (название)\n",
        "* Подкатегория жалобы (название)\n",
        "* Дата и время жалобы"
      ]
    },
    {
      "cell_type": "code",
      "execution_count": null,
      "metadata": {
        "id": "1543e511",
        "outputId": "fad7e363-2c42-4c9d-9328-928c4224d946"
      },
      "outputs": [
        {
          "ename": "KeyError",
          "evalue": "'payload.author_name'",
          "output_type": "error",
          "traceback": [
            "\u001b[1;31m---------------------------------------------------------------------------\u001b[0m",
            "\u001b[1;31mKeyError\u001b[0m                                  Traceback (most recent call last)",
            "Input \u001b[1;32mIn [160]\u001b[0m, in \u001b[0;36m<cell line: 18>\u001b[1;34m()\u001b[0m\n\u001b[0;32m     19\u001b[0m sub_dict \u001b[38;5;241m=\u001b[39m extract_petition(row[\u001b[38;5;124m\"\u001b[39m\u001b[38;5;124mfeed\u001b[39m\u001b[38;5;124m\"\u001b[39m])\n\u001b[0;32m     21\u001b[0m district_name \u001b[38;5;241m=\u001b[39m row[\u001b[38;5;124m\"\u001b[39m\u001b[38;5;124mdistrict_name\u001b[39m\u001b[38;5;124m\"\u001b[39m]\n\u001b[1;32m---> 22\u001b[0m author_name \u001b[38;5;241m=\u001b[39m \u001b[43mrow\u001b[49m\u001b[43m[\u001b[49m\u001b[38;5;124;43m\"\u001b[39;49m\u001b[38;5;124;43mpayload.author_name\u001b[39;49m\u001b[38;5;124;43m\"\u001b[39;49m\u001b[43m]\u001b[49m\n\u001b[0;32m     23\u001b[0m category \u001b[38;5;241m=\u001b[39m row[\u001b[38;5;124m\"\u001b[39m\u001b[38;5;124mreason.category.name\u001b[39m\u001b[38;5;124m\"\u001b[39m]\n\u001b[0;32m     24\u001b[0m category_id \u001b[38;5;241m=\u001b[39m row[\u001b[38;5;124m\"\u001b[39m\u001b[38;5;124mreason.category.id\u001b[39m\u001b[38;5;124m\"\u001b[39m]\n",
            "\u001b[1;31mKeyError\u001b[0m: 'payload.author_name'"
          ]
        }
      ],
      "source": [
        "# извлечение необходимого словаря\n",
        "def extract_petition(d: dict) -> dict:\n",
        "    for el in d:\n",
        "        if el[\"key\"].startswith(\"petition\"): return el\n",
        "\n",
        "\n",
        "# извлечение необходимого словаря\n",
        "def extract_text(d: dict) -> str:\n",
        "    text = \"\"\n",
        "    for part in d[\"payload.body\"]:\n",
        "        if part['typeof'] == 1: text += part[\"text\"]\n",
        "    \n",
        "    return text.strip()\n",
        "\n",
        "\n",
        "dataset = []\n",
        "\n",
        "for row in data:\n",
        "    sub_dict = extract_petition(row[\"feed\"])\n",
        "    \n",
        "    district_name = row[\"district_name\"]\n",
        "    author_name = sub_dict[\"payload.author_name\"]\n",
        "    category = row[\"reason.category.name\"]\n",
        "    category_id = row[\"reason.category.id\"]\n",
        "    sub_category = row[\"reason.name\"]\n",
        "    sub_category_id = row[\"reason.id\"]\n",
        "    date = pd.to_datetime(sub_dict[\"payload.dt\"])\n",
        "    text = extract_text(sub_dict)\n",
        "    \n",
        "    dataset.append((district_name, author_name, text, category, category_id, sub_category, sub_category_id, date))"
      ]
    },
    {
      "cell_type": "code",
      "execution_count": null,
      "metadata": {
        "id": "06214852"
      },
      "outputs": [],
      "source": []
    },
    {
      "cell_type": "markdown",
      "metadata": {
        "id": "a763c788"
      },
      "source": [
        "## Упрощённая загрузка"
      ]
    },
    {
      "cell_type": "code",
      "execution_count": null,
      "metadata": {
        "id": "733fd691"
      },
      "outputs": [],
      "source": [
        "df = pd.read_csv(\"C:/Users/User/OneDrive/Рабочий стол/Вар 2/Petitions.csv\")"
      ]
    },
    {
      "cell_type": "code",
      "execution_count": null,
      "metadata": {
        "id": "3ba56014",
        "outputId": "a4dbe493-b372-47a3-e027-a2b5180aa679"
      },
      "outputs": [
        {
          "data": {
            "text/html": [
              "<div>\n",
              "<style scoped>\n",
              "    .dataframe tbody tr th:only-of-type {\n",
              "        vertical-align: middle;\n",
              "    }\n",
              "\n",
              "    .dataframe tbody tr th {\n",
              "        vertical-align: top;\n",
              "    }\n",
              "\n",
              "    .dataframe thead th {\n",
              "        text-align: right;\n",
              "    }\n",
              "</style>\n",
              "<table border=\"1\" class=\"dataframe\">\n",
              "  <thead>\n",
              "    <tr style=\"text-align: right;\">\n",
              "      <th></th>\n",
              "      <th>id</th>\n",
              "      <th>public_petition_text</th>\n",
              "      <th>reason_category</th>\n",
              "    </tr>\n",
              "  </thead>\n",
              "  <tbody>\n",
              "    <tr>\n",
              "      <th>0</th>\n",
              "      <td>3168490</td>\n",
              "      <td>снег на дороге</td>\n",
              "      <td>Благоустройство</td>\n",
              "    </tr>\n",
              "    <tr>\n",
              "      <th>1</th>\n",
              "      <td>3219678</td>\n",
              "      <td>очистить кабельный киоск от рекламы</td>\n",
              "      <td>Благоустройство</td>\n",
              "    </tr>\n",
              "    <tr>\n",
              "      <th>2</th>\n",
              "      <td>2963920</td>\n",
              "      <td>Просим убрать все деревья и кустарники, которы...</td>\n",
              "      <td>Благоустройство</td>\n",
              "    </tr>\n",
              "    <tr>\n",
              "      <th>3</th>\n",
              "      <td>3374910</td>\n",
              "      <td>Неудовлетворительное состояние парадной - надп...</td>\n",
              "      <td>Содержание МКД</td>\n",
              "    </tr>\n",
              "    <tr>\n",
              "      <th>4</th>\n",
              "      <td>3336285</td>\n",
              "      <td>Граффити</td>\n",
              "      <td>Благоустройство</td>\n",
              "    </tr>\n",
              "    <tr>\n",
              "      <th>...</th>\n",
              "      <td>...</td>\n",
              "      <td>...</td>\n",
              "      <td>...</td>\n",
              "    </tr>\n",
              "    <tr>\n",
              "      <th>59884</th>\n",
              "      <td>3128111</td>\n",
              "      <td>прошу закрасить граффити</td>\n",
              "      <td>Благоустройство</td>\n",
              "    </tr>\n",
              "    <tr>\n",
              "      <th>59885</th>\n",
              "      <td>3276713</td>\n",
              "      <td>Прошу вас отремонтировать пешеходную дорожку</td>\n",
              "      <td>Благоустройство</td>\n",
              "    </tr>\n",
              "    <tr>\n",
              "      <th>59886</th>\n",
              "      <td>3274663</td>\n",
              "      <td>Необходимо демонтировать незаконную рекламную ...</td>\n",
              "      <td>Незаконная информационная и (или) рекламная ко...</td>\n",
              "    </tr>\n",
              "    <tr>\n",
              "      <th>59887</th>\n",
              "      <td>3359308</td>\n",
              "      <td>Очень гремит на ветру металлическая часть окна...</td>\n",
              "      <td>Кровля</td>\n",
              "    </tr>\n",
              "    <tr>\n",
              "      <th>59888</th>\n",
              "      <td>3209098</td>\n",
              "      <td>Две проблемы в одном:\\n1) Незаконные надписи/о...</td>\n",
              "      <td>Благоустройство</td>\n",
              "    </tr>\n",
              "  </tbody>\n",
              "</table>\n",
              "<p>59889 rows × 3 columns</p>\n",
              "</div>"
            ],
            "text/plain": [
              "            id                               public_petition_text  \\\n",
              "0      3168490                                     снег на дороге   \n",
              "1      3219678                очистить кабельный киоск от рекламы   \n",
              "2      2963920  Просим убрать все деревья и кустарники, которы...   \n",
              "3      3374910  Неудовлетворительное состояние парадной - надп...   \n",
              "4      3336285                                           Граффити   \n",
              "...        ...                                                ...   \n",
              "59884  3128111                           прошу закрасить граффити   \n",
              "59885  3276713       Прошу вас отремонтировать пешеходную дорожку   \n",
              "59886  3274663  Необходимо демонтировать незаконную рекламную ...   \n",
              "59887  3359308  Очень гремит на ветру металлическая часть окна...   \n",
              "59888  3209098  Две проблемы в одном:\\n1) Незаконные надписи/о...   \n",
              "\n",
              "                                         reason_category  \n",
              "0                                        Благоустройство  \n",
              "1                                        Благоустройство  \n",
              "2                                        Благоустройство  \n",
              "3                                         Содержание МКД  \n",
              "4                                        Благоустройство  \n",
              "...                                                  ...  \n",
              "59884                                    Благоустройство  \n",
              "59885                                    Благоустройство  \n",
              "59886  Незаконная информационная и (или) рекламная ко...  \n",
              "59887                                             Кровля  \n",
              "59888                                    Благоустройство  \n",
              "\n",
              "[59889 rows x 3 columns]"
            ]
          },
          "execution_count": 3,
          "metadata": {},
          "output_type": "execute_result"
        }
      ],
      "source": [
        "df"
      ]
    },
    {
      "cell_type": "code",
      "execution_count": null,
      "metadata": {
        "id": "bae02820",
        "outputId": "0d005ef4-c9df-4498-8488-ee552296c8dd"
      },
      "outputs": [
        {
          "data": {
            "text/plain": [
              "id                      0\n",
              "public_petition_text    0\n",
              "reason_category         0\n",
              "dtype: int64"
            ]
          },
          "execution_count": 4,
          "metadata": {},
          "output_type": "execute_result"
        }
      ],
      "source": [
        "df.isnull().sum()"
      ]
    }
  ]
}