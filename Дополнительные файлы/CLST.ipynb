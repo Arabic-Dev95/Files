{
  "nbformat": 4,
  "nbformat_minor": 0,
  "metadata": {
    "colab": {
      "provenance": []
    },
    "kernelspec": {
      "name": "python3",
      "display_name": "Python 3"
    },
    "language_info": {
      "name": "python"
    }
  },
  "cells": [
    {
      "cell_type": "code",
      "execution_count": null,
      "metadata": {
        "id": "BmueYdq_E6Wp"
      },
      "outputs": [],
      "source": []
    },
    {
      "cell_type": "markdown",
      "metadata": {
        "id": "2a4ec36d"
      },
      "source": [
        "# Векторизация текста и поиск ngram"
      ]
    },
    {
      "cell_type": "code",
      "execution_count": null,
      "metadata": {
        "id": "24f8c99f"
      },
      "outputs": [],
      "source": [
        "from sklearn.feature_extraction.text import CountVectorizer, TfidfVectorizer, HashingVectorizer\n"
      ]
    },
    {
      "cell_type": "code",
      "execution_count": null,
      "metadata": {
        "id": "1627615d"
      },
      "outputs": [],
      "source": [
        "tfidf = TfidfVectorizer(min_df=5,max_df=0.8, ngram_range=(1, 2))\n",
        "X_tfidf = tfidf.fit_transform(tk['clear_text'])\n",
        "df_tfidf = pd.DataFrame(X_tfidf.toarray(), columns = tfidf.get_feature_names())\n",
        "df_tfidf.head()"
      ]
    },
    {
      "cell_type": "code",
      "execution_count": null,
      "metadata": {
        "id": "ead63764"
      },
      "outputs": [],
      "source": [
        "X_tfidf"
      ]
    },
    {
      "cell_type": "code",
      "execution_count": null,
      "metadata": {
        "id": "e57582e1"
      },
      "outputs": [],
      "source": [
        "df_tfidf[\"Company\"]=tk[\"Company\"]"
      ]
    },
    {
      "cell_type": "markdown",
      "metadata": {
        "id": "6751a300"
      },
      "source": [
        " # Кластеризация"
      ]
    },
    {
      "cell_type": "code",
      "execution_count": null,
      "metadata": {
        "id": "f5e79a85"
      },
      "outputs": [],
      "source": [
        "from sklearn.cluster import KMeans, Birch, MiniBatchKMeans\n",
        "from sklearn.decomposition import PCA"
      ]
    },
    {
      "cell_type": "code",
      "execution_count": null,
      "metadata": {
        "id": "1b5c2461"
      },
      "outputs": [],
      "source": [
        "model = KMeans(n_clusters=5)"
      ]
    },
    {
      "cell_type": "code",
      "execution_count": null,
      "metadata": {
        "id": "cabd514f"
      },
      "outputs": [],
      "source": [
        "reduced_data = PCA(n_components=2).fit_transform(X_tfidf.toarray())\n",
        "model.fit_transform(reduced_data)\n",
        "df_tfidf[\"cluster\"] = model.predict(reduced_data)"
      ]
    },
    {
      "cell_type": "code",
      "execution_count": null,
      "metadata": {
        "id": "9d6bec22"
      },
      "outputs": [],
      "source": [
        "df_tfidf[\"cluster\"]"
      ]
    },
    {
      "cell_type": "code",
      "execution_count": null,
      "metadata": {
        "id": "34b07f49"
      },
      "outputs": [],
      "source": [
        "from sklearn.metrics import silhouette_score"
      ]
    },
    {
      "cell_type": "code",
      "execution_count": null,
      "metadata": {
        "id": "c6358be2"
      },
      "outputs": [],
      "source": [
        "print(\"silhouette_score -\", silhouette_score(reduced_data, df_tfidf[\"cluster\"]))"
      ]
    },
    {
      "cell_type": "markdown",
      "metadata": {
        "id": "a3592d81"
      },
      "source": [
        "# Классификация"
      ]
    },
    {
      "cell_type": "code",
      "execution_count": null,
      "metadata": {
        "id": "b947bf13"
      },
      "outputs": [],
      "source": [
        "df=pd.read_json(\"Target1.json\")\n",
        "df = df.rename(columns = {\"Сompany\":\"Company\"})\n",
        "df"
      ]
    },
    {
      "cell_type": "code",
      "execution_count": null,
      "metadata": {
        "id": "3321c137"
      },
      "outputs": [],
      "source": [
        "df_tfidf[\"Company\"]"
      ]
    },
    {
      "cell_type": "code",
      "execution_count": null,
      "metadata": {
        "id": "7987015e"
      },
      "outputs": [],
      "source": [
        "df_tfidf=df_tfidf.merge(df, on='Company')\n",
        "df_tfidf['Nominations']"
      ]
    },
    {
      "cell_type": "code",
      "execution_count": null,
      "metadata": {
        "id": "a8747425"
      },
      "outputs": [],
      "source": [
        "import matplotlib.pyplot as plt\n",
        "import seaborn as sns\n",
        "plt.figure(figsize=(10,4))\n",
        "sns.histplot(data=df_tfidf,x='Nominations')"
      ]
    },
    {
      "cell_type": "code",
      "execution_count": null,
      "metadata": {
        "id": "3f511e9a"
      },
      "outputs": [],
      "source": [
        "from sklearn.model_selection import train_test_split"
      ]
    },
    {
      "cell_type": "code",
      "execution_count": null,
      "metadata": {
        "id": "db0e4aa9"
      },
      "outputs": [],
      "source": [
        "x=df_tfidf.drop(['Nominations', \"Company\"], axis=1)\n",
        "y=df_tfidf['Nominations']"
      ]
    },
    {
      "cell_type": "code",
      "execution_count": null,
      "metadata": {
        "id": "c04d1f9c"
      },
      "outputs": [],
      "source": [
        "x_train, x_test, y_train, y_test = train_test_split(x, y, test_size=0.30, random_state=42, stratify=y)"
      ]
    },
    {
      "cell_type": "code",
      "execution_count": null,
      "metadata": {
        "id": "329440ee"
      },
      "outputs": [],
      "source": [
        "from sklearn.tree import DecisionTreeClassifier as Tree\n"
      ]
    },
    {
      "cell_type": "code",
      "execution_count": null,
      "metadata": {
        "id": "39664526"
      },
      "outputs": [],
      "source": [
        "tree = Tree(max_depth=20, min_samples_split=4, min_samples_leaf=2)"
      ]
    },
    {
      "cell_type": "code",
      "execution_count": null,
      "metadata": {
        "id": "3acb17ab"
      },
      "outputs": [],
      "source": [
        "tree.fit(x_train, y_train)"
      ]
    },
    {
      "cell_type": "markdown",
      "metadata": {
        "id": "68f5e80e"
      },
      "source": [
        "# Оценка модели"
      ]
    },
    {
      "cell_type": "code",
      "execution_count": null,
      "metadata": {
        "id": "092f6112"
      },
      "outputs": [],
      "source": [
        "predictions = tree.predict(x_test)"
      ]
    },
    {
      "cell_type": "code",
      "execution_count": null,
      "metadata": {
        "id": "3c8791d2"
      },
      "outputs": [],
      "source": [
        "from sklearn.metrics import accuracy_score\n",
        "print(accuracy_score(y_test, predictions))"
      ]
    },
    {
      "cell_type": "code",
      "execution_count": null,
      "metadata": {
        "id": "07cbf740"
      },
      "outputs": [],
      "source": []
    },
    {
      "cell_type": "code",
      "execution_count": null,
      "metadata": {
        "id": "e184875b"
      },
      "outputs": [],
      "source": []
    }
  ]
}