{
  "nbformat": 4,
  "nbformat_minor": 0,
  "metadata": {
    "colab": {
      "provenance": []
    },
    "kernelspec": {
      "name": "python3",
      "display_name": "Python 3"
    },
    "language_info": {
      "name": "python"
    }
  },
  "cells": [
    {
      "cell_type": "code",
      "execution_count": null,
      "metadata": {
        "id": "sZQ1xq4MyZir"
      },
      "outputs": [],
      "source": []
    },
    {
      "cell_type": "markdown",
      "metadata": {
        "id": "6b3ecfb1"
      },
      "source": [
        "## Кластеризация"
      ]
    },
    {
      "cell_type": "code",
      "execution_count": null,
      "metadata": {
        "id": "c3d65c8a"
      },
      "outputs": [],
      "source": [
        "# для кластеризации будем использовать только слова\n",
        "df1 = new_df.drop([\"id\", \"public_petition_text\", \"reason_category\", \"clear_text\"], axis=1)"
      ]
    },
    {
      "cell_type": "code",
      "execution_count": null,
      "metadata": {
        "id": "c0c62237"
      },
      "outputs": [],
      "source": [
        "# создание функции для упрощения данных\n",
        "def pcaf(df):\n",
        "    # приведения данных в один диапозон: между 0 и 1\n",
        "    for i in df.columns:\n",
        "        # каждое значение делим на максимальное в атриубте\n",
        "        df[i] = df[i]/(df[i].max())\n",
        "    #Обьявление метода главных компонентов (метод для уменьшения количества атрибутов)\n",
        "    pc = PCA(n_components=2)\n",
        "    return pc.fit_transform(df)"
      ]
    },
    {
      "cell_type": "code",
      "execution_count": null,
      "metadata": {
        "id": "f0044b1d"
      },
      "outputs": [],
      "source": [
        "data = pcaf(df1)"
      ]
    },
    {
      "cell_type": "code",
      "execution_count": null,
      "metadata": {
        "id": "c5946233"
      },
      "outputs": [],
      "source": [
        "# создание модели кластеризации\n",
        "from sklearn.cluster import KMeans\n",
        "n_cluster = 4\n",
        "km = KMeans(n_clusters = n_cluster)"
      ]
    },
    {
      "cell_type": "code",
      "execution_count": null,
      "metadata": {
        "id": "a51721d7"
      },
      "outputs": [],
      "source": [
        "# кластеризация\n",
        "km.fit(data)\n",
        "new_df[\"kmeans\"] = km.predict(data)"
      ]
    },
    {
      "cell_type": "code",
      "execution_count": null,
      "metadata": {
        "id": "43b7716b"
      },
      "outputs": [],
      "source": [
        "from sklearn.metrics import silhouette_score"
      ]
    },
    {
      "cell_type": "code",
      "execution_count": null,
      "metadata": {
        "id": "38adfb37",
        "outputId": "7f0e11c5-33e0-402f-d6b4-71a0ab20e76d"
      },
      "outputs": [
        {
          "name": "stdout",
          "output_type": "stream",
          "text": [
            "silhouette_score - 0.9507333547688585\n"
          ]
        }
      ],
      "source": [
        "print(\"silhouette_score -\", silhouette_score(data, new_df[\"kmeans\"]))"
      ]
    },
    {
      "cell_type": "markdown",
      "metadata": {
        "id": "1616c127"
      },
      "source": [
        "#### необходимо рассмотреть кластеры, дать им названия и провести анализ"
      ]
    },
    {
      "cell_type": "code",
      "execution_count": null,
      "metadata": {
        "id": "67048169"
      },
      "outputs": [],
      "source": []
    },
    {
      "cell_type": "markdown",
      "metadata": {
        "id": "ec05c277"
      },
      "source": [
        "## Построение модели для предсказаний"
      ]
    },
    {
      "cell_type": "code",
      "execution_count": null,
      "metadata": {
        "id": "b6b4fd58"
      },
      "outputs": [],
      "source": [
        "from sklearn.model_selection import train_test_split"
      ]
    },
    {
      "cell_type": "code",
      "execution_count": null,
      "metadata": {
        "id": "e9523dc3"
      },
      "outputs": [],
      "source": [
        "x = df1\n",
        "y = new_df[\"kmeans\"]\n",
        "\n",
        "x_train, x_test, y_train, y_test = train_test_split(x, y, test_size=0.33, random_state=42, stratify=y)"
      ]
    },
    {
      "cell_type": "code",
      "execution_count": null,
      "metadata": {
        "id": "f5e20538"
      },
      "outputs": [],
      "source": [
        "from sklearn.tree import DecisionTreeClassifier as Tree\n",
        "from sklearn.model_selection import RandomizedSearchCV as RS"
      ]
    },
    {
      "cell_type": "code",
      "source": [],
      "metadata": {
        "id": "Q69K83uzEHuH"
      },
      "execution_count": null,
      "outputs": []
    },
    {
      "cell_type": "code",
      "execution_count": null,
      "metadata": {
        "id": "40d1e368"
      },
      "outputs": [],
      "source": [
        "tree = Tree(max_depth=20, min_samples_split=4, min_samples_leaf=2)"
      ]
    },
    {
      "cell_type": "code",
      "execution_count": null,
      "metadata": {
        "id": "9ae21a46",
        "outputId": "d9b806b4-5faa-4a15-e708-e1f527f6abaf"
      },
      "outputs": [
        {
          "data": {
            "text/plain": [
              "DecisionTreeClassifier(max_depth=20, min_samples_leaf=2, min_samples_split=4)"
            ]
          },
          "execution_count": 40,
          "metadata": {},
          "output_type": "execute_result"
        }
      ],
      "source": [
        "tree.fit(x_train, y_train)"
      ]
    },
    {
      "cell_type": "markdown",
      "metadata": {
        "id": "f351daaa"
      },
      "source": [
        "## Оценка модели"
      ]
    },
    {
      "cell_type": "code",
      "execution_count": null,
      "metadata": {
        "id": "9a0d154b"
      },
      "outputs": [],
      "source": [
        "predictions = tree.predict(x_test)"
      ]
    },
    {
      "cell_type": "code",
      "execution_count": null,
      "metadata": {
        "id": "4b898d20",
        "outputId": "0632a930-0e72-42b3-bdcc-a720fcdcab81"
      },
      "outputs": [
        {
          "name": "stdout",
          "output_type": "stream",
          "text": [
            "0.9997470147743371\n"
          ]
        }
      ],
      "source": [
        "from sklearn.metrics import accuracy_score\n",
        "print(accuracy_score(y_test, predictions))"
      ]
    }
  ]
}