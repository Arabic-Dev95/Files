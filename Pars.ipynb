{
  "nbformat": 4,
  "nbformat_minor": 0,
  "metadata": {
    "colab": {
      "provenance": []
    },
    "kernelspec": {
      "name": "python3",
      "display_name": "Python 3"
    },
    "language_info": {
      "name": "python"
    }
  },
  "cells": [
    {
      "cell_type": "code",
      "execution_count": null,
      "metadata": {
        "id": "ITDSh828B5PL"
      },
      "outputs": [],
      "source": []
    },
    {
      "cell_type": "markdown",
      "metadata": {
        "id": "ec546961"
      },
      "source": [
        "# Парсинг и предобработка данных"
      ]
    },
    {
      "cell_type": "code",
      "execution_count": null,
      "metadata": {
        "id": "c9402f9e"
      },
      "outputs": [],
      "source": [
        "#Импортирование необходимых библиотек\n",
        "import pandas as pd\n",
        "import numpy as np\n",
        "from pprint import pprint\n",
        "import codecs\n",
        "import json\n",
        "import glob\n",
        "pd.set_option('display.max_columns', None)\n",
        "from pandas import json_normalize"
      ]
    },
    {
      "cell_type": "markdown",
      "metadata": {
        "id": "9353bcff"
      },
      "source": [
        "**1 способ**"
      ]
    },
    {
      "cell_type": "code",
      "execution_count": null,
      "metadata": {
        "id": "2b026585"
      },
      "outputs": [],
      "source": [
        "#Путь к файлам .geojson\n",
        "path = 'Data'\n",
        "file = glob.glob(path + \"/*.json\")\n",
        "\n",
        "\n",
        "#Цикл для получения файла и его загрузки, используя json.load \n",
        "df_data=[]\n",
        "for filename in file:\n",
        "    name = filename.split(\"\\\\\")[-1][:-5]\n",
        "    \n",
        "    with codecs.open(filename, 'r', 'utf-8-sig') as json_file:  \n",
        "        data = json.load(json_file)\n",
        "           \n",
        "    for article in data['refs']:\n",
        "        if article!=None:\n",
        "            df_data.append([name, article[0], article[1]['day'], article[1]['month'], article[1]['time']])\n",
        "            \n",
        "df_full=pd.DataFrame(data=df_data,columns=['Название файла', 'Пост', 'день публикации', 'месяц публикации', 'время публикации'])"
      ]
    },
    {
      "cell_type": "markdown",
      "metadata": {
        "id": "48499fb8"
      },
      "source": []
    },
    {
      "cell_type": "code",
      "execution_count": null,
      "metadata": {
        "id": "16bf2666"
      },
      "outputs": [],
      "source": [
        "df_full.head(5)"
      ]
    },
    {
      "cell_type": "markdown",
      "metadata": {
        "id": "731006a8"
      },
      "source": [
        "**2 способ**"
      ]
    },
    {
      "cell_type": "code",
      "execution_count": null,
      "metadata": {
        "id": "4d4141fc"
      },
      "outputs": [],
      "source": [
        "#Путь к файлам .geojson\n",
        "path = 'Data'\n",
        "file = glob.glob(path + \"/*.json\")\n",
        "df_full=pd.DataFrame()\n",
        "\n",
        "#df_full=pd.DataFrame(columns=['Пост', 'день публикации', 'месяц публикации', 'время публикации'])\n",
        "#Цикл для получения файла и его загрузки, используя json.load \n",
        "for filename in file:\n",
        "    name = filename.split(\"\\\\\")[-1][:-5]\n",
        "    with codecs.open(filename, 'r', 'utf-8-sig') as json_file:  \n",
        "        data = json.load(json_file)\n",
        "    \n",
        "    for article in data['refs']:  \n",
        "        if article != None:\n",
        "            df=pd.concat(\n",
        "                [\n",
        "                    pd.DataFrame([article[0]],columns=['Post']),\n",
        "                    json_normalize(article[1]),\n",
        "                    pd.DataFrame([name],columns=['Company'])\n",
        "                ],\n",
        "                axis=1\n",
        "            )\n",
        "            df_full=pd.concat([df_full,df],axis=0,ignore_index=True)\n",
        "        "
      ]
    },
    {
      "cell_type": "code",
      "execution_count": null,
      "metadata": {
        "id": "82c0edcb"
      },
      "outputs": [],
      "source": [
        "df_full.info()"
      ]
    },
    {
      "cell_type": "code",
      "execution_count": null,
      "metadata": {
        "id": "48fcd549"
      },
      "outputs": [],
      "source": [
        "df_full.head()"
      ]
    },
    {
      "cell_type": "markdown",
      "metadata": {
        "id": "c550327a"
      },
      "source": [
        "Датафрейм с информацией о компании"
      ]
    },
    {
      "cell_type": "code",
      "execution_count": null,
      "metadata": {
        "id": "ddc5045e"
      },
      "outputs": [],
      "source": [
        "#Путь к файлам .geojson\n",
        "path = 'Data'\n",
        "file = glob.glob(path + \"/*.json\")\n",
        "\n",
        "\n",
        "df = pd.DataFrame(columns=['rate','subs','industries','about','Company']) \n",
        "\n",
        "#Цикл для получения файла и его загрузки, используя json.load \n",
        "for filename in file:\n",
        "    with codecs.open(filename, 'r', 'utf-8-sig') as json_file:  \n",
        "        data = json.load(json_file)\n",
        "        name = filename.split(\"\\\\\")[-1][:-5]   \n",
        "        try:\n",
        "            company_info=pd.concat([json_normalize(data['info']),pd.DataFrame([name],columns=['Company'])],axis=1)\n",
        "        except:\n",
        "            d={'rate':['Не указано'],'subs':['Не указано'],'industries':['Не указано'],'about':['Не указано']}\n",
        "            company_info=pd.concat([pd.DataFrame(d),pd.DataFrame([name],columns=['Company'])],axis=1)\n",
        "    df = pd.concat([df,company_info], axis=0, ignore_index=True)\n",
        "df.head()    \n",
        "   "
      ]
    },
    {
      "cell_type": "code",
      "execution_count": null,
      "metadata": {
        "id": "9460c87c"
      },
      "outputs": [],
      "source": [
        "tk = df_full.merge(df, on='Company',how='left')"
      ]
    },
    {
      "cell_type": "code",
      "execution_count": null,
      "metadata": {
        "id": "231501c3"
      },
      "outputs": [],
      "source": [
        "tk.shape"
      ]
    },
    {
      "cell_type": "code",
      "execution_count": null,
      "metadata": {
        "id": "f3aa7367"
      },
      "outputs": [],
      "source": [
        "tk.head()"
      ]
    }
  ]
}